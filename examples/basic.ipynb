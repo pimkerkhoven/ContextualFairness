{
 "cells": [
  {
   "cell_type": "code",
   "execution_count": 1,
   "metadata": {},
   "outputs": [],
   "source": [
    "# Copyright (c) ContextualFairness contributors.\n",
    "# Licensed under the MIT License."
   ]
  },
  {
   "cell_type": "markdown",
   "metadata": {},
   "source": [
    "# Basic notebook showing the various properties of contextual fairness"
   ]
  },
  {
   "cell_type": "code",
   "execution_count": 2,
   "metadata": {},
   "outputs": [],
   "source": [
    "import sys\n",
    "\n",
    "sys.path.append(\"../\")\n",
    "\n",
    "import pandas as pd\n",
    "\n",
    "from contextualfairness.scorer import contextual_fairness_score\n",
    "from contextualfairness.norms import BinaryClassificationEqualityNorm, RankNorm\n",
    "\n",
    "from _helper import pprint_result"
   ]
  },
  {
   "cell_type": "markdown",
   "metadata": {},
   "source": [
    "### Create fake data"
   ]
  },
  {
   "cell_type": "code",
   "execution_count": 3,
   "metadata": {},
   "outputs": [],
   "source": [
    "ages = [\"young\", \"young\", \"old\", \"young\", \"old\"]\n",
    "y_true = [1, 0, 0, 1, 0]\n",
    "\n",
    "d = {\n",
    "    \"income\": [50, 80, 30, 100, 30],\n",
    "    \"age\": ages,\n",
    "    \"sex\": [\"male\", \"female\", \"male\", \"female\", \"male\"],\n",
    "    \"y true\": y_true,\n",
    "}\n",
    "\n",
    "X = pd.DataFrame(data=d)"
   ]
  },
  {
   "cell_type": "markdown",
   "metadata": {},
   "source": [
    "### Define predictions and probabilities for each prediction\n",
    "\n",
    "We do not actually train a model for this basic notebook. Rather, we define all the data needed for contextual fairness manually.\n",
    "\n",
    "The probabilities in `y_pred_probas` denote the probability for each indivual being predicted `1`."
   ]
  },
  {
   "cell_type": "code",
   "execution_count": 4,
   "metadata": {},
   "outputs": [],
   "source": [
    "y_pred = [1, 0, 1, 0, 1]\n",
    "y_pred_probas = [0.5, 0.2, 0.6, 0.4, 0.5]"
   ]
  },
  {
   "cell_type": "markdown",
   "metadata": {},
   "source": [
    "### Define norms\n",
    "\n",
    "We use two norms in this scenario: the equality norm for binary classification and a rank norm.\n",
    "For the rank norm, we need to specify a function that ranks all individuals with respect to this norm.\n",
    "This function takes an individual `x` as input and returns a value that can be used for ranking.\n",
    "In this case, we define the function `richer_is_better` that will rank individuals based on their income."
   ]
  },
  {
   "cell_type": "code",
   "execution_count": 5,
   "metadata": {},
   "outputs": [],
   "source": [
    "# Define norm function\n",
    "def richer_is_better(x):\n",
    "    return x[\"income\"]\n",
    "\n",
    "\n",
    "norms = [BinaryClassificationEqualityNorm(), RankNorm(richer_is_better)]"
   ]
  },
  {
   "cell_type": "markdown",
   "metadata": {},
   "source": [
    "To calculate the contextual fairnesss for a model and a dataset, we call `contextual_fairness_score` with the norms, the dataset `X`, the predictions `y_pred` and the probabilities `y_pred_probas`. We also specify a weight for each norm. These `weights` are used for weighing the score for each norm."
   ]
  },
  {
   "cell_type": "code",
   "execution_count": 9,
   "metadata": {},
   "outputs": [],
   "source": [
    "result = contextual_fairness_score(\n",
    "    norms=norms,\n",
    "    X=X,\n",
    "    y_pred=y_pred,\n",
    "    outcome_scores=y_pred_probas,\n",
    "    weights=[0.4, 0.6],\n",
    ")"
   ]
  },
  {
   "cell_type": "markdown",
   "metadata": {},
   "source": [
    "The `result` of contextual fairness contains a `pandas.DataFrame` that has the same columns as `X` and additional columns for each norm and a column `total` containing the sum of the norms for each individual."
   ]
  },
  {
   "cell_type": "code",
   "execution_count": 10,
   "metadata": {},
   "outputs": [
    {
     "data": {
      "text/html": [
       "<div>\n",
       "<style scoped>\n",
       "    .dataframe tbody tr th:only-of-type {\n",
       "        vertical-align: middle;\n",
       "    }\n",
       "\n",
       "    .dataframe tbody tr th {\n",
       "        vertical-align: top;\n",
       "    }\n",
       "\n",
       "    .dataframe thead th {\n",
       "        text-align: right;\n",
       "    }\n",
       "</style>\n",
       "<table border=\"1\" class=\"dataframe\">\n",
       "  <thead>\n",
       "    <tr style=\"text-align: right;\">\n",
       "      <th></th>\n",
       "      <th>income</th>\n",
       "      <th>age</th>\n",
       "      <th>sex</th>\n",
       "      <th>y true</th>\n",
       "      <th>Equality</th>\n",
       "      <th>richer_is_better</th>\n",
       "      <th>total</th>\n",
       "    </tr>\n",
       "  </thead>\n",
       "  <tbody>\n",
       "    <tr>\n",
       "      <th>0</th>\n",
       "      <td>50</td>\n",
       "      <td>young</td>\n",
       "      <td>male</td>\n",
       "      <td>1</td>\n",
       "      <td>0.0</td>\n",
       "      <td>0.06</td>\n",
       "      <td>0.06</td>\n",
       "    </tr>\n",
       "    <tr>\n",
       "      <th>1</th>\n",
       "      <td>80</td>\n",
       "      <td>young</td>\n",
       "      <td>female</td>\n",
       "      <td>0</td>\n",
       "      <td>0.2</td>\n",
       "      <td>0.18</td>\n",
       "      <td>0.38</td>\n",
       "    </tr>\n",
       "    <tr>\n",
       "      <th>2</th>\n",
       "      <td>30</td>\n",
       "      <td>old</td>\n",
       "      <td>male</td>\n",
       "      <td>0</td>\n",
       "      <td>0.0</td>\n",
       "      <td>0.00</td>\n",
       "      <td>0.00</td>\n",
       "    </tr>\n",
       "    <tr>\n",
       "      <th>3</th>\n",
       "      <td>100</td>\n",
       "      <td>young</td>\n",
       "      <td>female</td>\n",
       "      <td>1</td>\n",
       "      <td>0.2</td>\n",
       "      <td>0.18</td>\n",
       "      <td>0.38</td>\n",
       "    </tr>\n",
       "    <tr>\n",
       "      <th>4</th>\n",
       "      <td>30</td>\n",
       "      <td>old</td>\n",
       "      <td>male</td>\n",
       "      <td>0</td>\n",
       "      <td>0.0</td>\n",
       "      <td>0.00</td>\n",
       "      <td>0.00</td>\n",
       "    </tr>\n",
       "  </tbody>\n",
       "</table>\n",
       "</div>"
      ],
      "text/plain": [
       "   income    age     sex  y true  Equality  richer_is_better  total\n",
       "0      50  young    male       1       0.0              0.06   0.06\n",
       "1      80  young  female       0       0.2              0.18   0.38\n",
       "2      30    old    male       0       0.0              0.00   0.00\n",
       "3     100  young  female       1       0.2              0.18   0.38\n",
       "4      30    old    male       0       0.0              0.00   0.00"
      ]
     },
     "execution_count": 10,
     "metadata": {},
     "output_type": "execute_result"
    }
   ],
   "source": [
    "result.df"
   ]
  },
  {
   "cell_type": "markdown",
   "metadata": {},
   "source": [
    "The `result` has a method `total_score` that returns the sum of the values in the `total` column."
   ]
  },
  {
   "cell_type": "code",
   "execution_count": 11,
   "metadata": {},
   "outputs": [
    {
     "data": {
      "text/plain": [
       "np.float64(0.8200000000000001)"
      ]
     },
     "execution_count": 11,
     "metadata": {},
     "output_type": "execute_result"
    }
   ],
   "source": [
    "result.total_score()"
   ]
  },
  {
   "cell_type": "markdown",
   "metadata": {},
   "source": [
    "The `result` has a method `group_scores` that returns the contextual fairness score for each group given a list of attributes in `X`. The returned groups are the combinations of all values for the attributes in `X`. Besides the score also the data used for calculating the group score is returned, i.e., the score for each individual in the group."
   ]
  },
  {
   "cell_type": "code",
   "execution_count": 12,
   "metadata": {},
   "outputs": [
    {
     "name": "stdout",
     "output_type": "stream",
     "text": [
      "sex=female;age=old\n",
      "\tScore: 0.0\n",
      "\tData:\n",
      "sex=female;age=young\n",
      "\tScore: 0.76\n",
      "\tData:\n",
      "\t 1 \t 0.38\n",
      "\t 3 \t 0.38\n",
      "sex=male;age=old\n",
      "\tScore: 0.0\n",
      "\tData:\n",
      "\t 2 \t 0.0\n",
      "\t 4 \t 0.0\n",
      "sex=male;age=young\n",
      "\tScore: 0.06\n",
      "\tData:\n",
      "\t 0 \t 0.06\n"
     ]
    }
   ],
   "source": [
    "pprint_result(result.group_scores([\"sex\", \"age\"]))"
   ]
  },
  {
   "cell_type": "markdown",
   "metadata": {},
   "source": [
    "By setting the `scaled` flag to true, the scores for each group are scaled relative to the size of the group."
   ]
  },
  {
   "cell_type": "code",
   "execution_count": 13,
   "metadata": {},
   "outputs": [
    {
     "name": "stdout",
     "output_type": "stream",
     "text": [
      "sex=female;age=old\n",
      "\tScore: 0.0\n",
      "\tData:\n",
      "sex=female;age=young\n",
      "\tScore: 0.7081818181818182\n",
      "\tData:\n",
      "\t 1 \t 0.3540909090909091\n",
      "\t 3 \t 0.3540909090909091\n",
      "sex=male;age=old\n",
      "\tScore: 0.0\n",
      "\tData:\n",
      "\t 2 \t 0.0\n",
      "\t 4 \t 0.0\n",
      "sex=male;age=young\n",
      "\tScore: 0.11181818181818182\n",
      "\tData:\n",
      "\t 0 \t 0.11181818181818182\n"
     ]
    }
   ],
   "source": [
    "pprint_result(result.group_scores([\"sex\", \"age\"], scaled=True))"
   ]
  }
 ],
 "metadata": {
  "kernelspec": {
   "display_name": ".venv",
   "language": "python",
   "name": "python3"
  },
  "language_info": {
   "codemirror_mode": {
    "name": "ipython",
    "version": 3
   },
   "file_extension": ".py",
   "mimetype": "text/x-python",
   "name": "python",
   "nbconvert_exporter": "python",
   "pygments_lexer": "ipython3",
   "version": "3.10.13"
  }
 },
 "nbformat": 4,
 "nbformat_minor": 2
}
