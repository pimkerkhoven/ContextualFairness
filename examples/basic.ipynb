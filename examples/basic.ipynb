{
 "cells": [
  {
   "cell_type": "code",
   "execution_count": 1,
   "metadata": {},
   "outputs": [],
   "source": [
    "# Copyright (c) ContextualFairness contributors.\n",
    "# Licensed under the MIT License."
   ]
  },
  {
   "cell_type": "code",
   "execution_count": 2,
   "metadata": {},
   "outputs": [],
   "source": [
    "# Make sure we can import contextualfairness\n",
    "import sys\n",
    "\n",
    "sys.path.append(\"../\")"
   ]
  },
  {
   "cell_type": "code",
   "execution_count": 3,
   "metadata": {},
   "outputs": [],
   "source": [
    "import pandas as pd\n",
    "\n",
    "from contextualfairness import (\n",
    "    contextual_fairness_score,\n",
    "    BinaryClassificationEqualityNorm,\n",
    "    RankNorm,\n",
    ")"
   ]
  },
  {
   "cell_type": "code",
   "execution_count": 4,
   "metadata": {},
   "outputs": [],
   "source": [
    "# Setup fake data\n",
    "ages = [\"young\", \"young\", \"old\", \"young\", \"old\"]\n",
    "y_true = [1, 0, 0, 1, 0]\n",
    "\n",
    "d = {\n",
    "    \"income\": [50, 80, 30, 100, 30],\n",
    "    \"age\": ages,\n",
    "    \"sex\": [\"male\", \"female\", \"male\", \"female\", \"male\"],\n",
    "    \"y true\": y_true,\n",
    "}\n",
    "\n",
    "X = pd.DataFrame(data=d)"
   ]
  },
  {
   "cell_type": "code",
   "execution_count": 5,
   "metadata": {},
   "outputs": [],
   "source": [
    "# Define fake predictions and according probabilities\n",
    "y_pred = [1, 0, 1, 0, 1]\n",
    "y_pred_probas = [0.5, 0.2, 0.6, 0.4, 0.5]"
   ]
  },
  {
   "cell_type": "code",
   "execution_count": 6,
   "metadata": {},
   "outputs": [],
   "source": [
    "# Define norm function\n",
    "def richer_is_better(x):\n",
    "    return x[\"income\"]"
   ]
  },
  {
   "cell_type": "code",
   "execution_count": 7,
   "metadata": {},
   "outputs": [],
   "source": [
    "norms = [BinaryClassificationEqualityNorm(), RankNorm(richer_is_better)]\n",
    "\n",
    "result = contextual_fairness_score(\n",
    "    norms=norms,\n",
    "    X=X,\n",
    "    y_pred=y_pred,\n",
    "    y_pred_probas=y_pred_probas,\n",
    "    weights=[0.4, 0.6],\n",
    ")"
   ]
  },
  {
   "cell_type": "code",
   "execution_count": 8,
   "metadata": {},
   "outputs": [
    {
     "data": {
      "text/html": [
       "<div>\n",
       "<style scoped>\n",
       "    .dataframe tbody tr th:only-of-type {\n",
       "        vertical-align: middle;\n",
       "    }\n",
       "\n",
       "    .dataframe tbody tr th {\n",
       "        vertical-align: top;\n",
       "    }\n",
       "\n",
       "    .dataframe thead th {\n",
       "        text-align: right;\n",
       "    }\n",
       "</style>\n",
       "<table border=\"1\" class=\"dataframe\">\n",
       "  <thead>\n",
       "    <tr style=\"text-align: right;\">\n",
       "      <th></th>\n",
       "      <th>income</th>\n",
       "      <th>age</th>\n",
       "      <th>sex</th>\n",
       "      <th>y true</th>\n",
       "      <th>Equality</th>\n",
       "      <th>richer_is_better</th>\n",
       "      <th>total</th>\n",
       "    </tr>\n",
       "  </thead>\n",
       "  <tbody>\n",
       "    <tr>\n",
       "      <th>0</th>\n",
       "      <td>50</td>\n",
       "      <td>young</td>\n",
       "      <td>male</td>\n",
       "      <td>1</td>\n",
       "      <td>0.00</td>\n",
       "      <td>0.05</td>\n",
       "      <td>0.05</td>\n",
       "    </tr>\n",
       "    <tr>\n",
       "      <th>1</th>\n",
       "      <td>80</td>\n",
       "      <td>young</td>\n",
       "      <td>female</td>\n",
       "      <td>0</td>\n",
       "      <td>0.25</td>\n",
       "      <td>0.15</td>\n",
       "      <td>0.40</td>\n",
       "    </tr>\n",
       "    <tr>\n",
       "      <th>2</th>\n",
       "      <td>30</td>\n",
       "      <td>old</td>\n",
       "      <td>male</td>\n",
       "      <td>0</td>\n",
       "      <td>0.00</td>\n",
       "      <td>0.00</td>\n",
       "      <td>0.00</td>\n",
       "    </tr>\n",
       "    <tr>\n",
       "      <th>3</th>\n",
       "      <td>100</td>\n",
       "      <td>young</td>\n",
       "      <td>female</td>\n",
       "      <td>1</td>\n",
       "      <td>0.25</td>\n",
       "      <td>0.15</td>\n",
       "      <td>0.40</td>\n",
       "    </tr>\n",
       "    <tr>\n",
       "      <th>4</th>\n",
       "      <td>30</td>\n",
       "      <td>old</td>\n",
       "      <td>male</td>\n",
       "      <td>0</td>\n",
       "      <td>0.00</td>\n",
       "      <td>0.00</td>\n",
       "      <td>0.00</td>\n",
       "    </tr>\n",
       "  </tbody>\n",
       "</table>\n",
       "</div>"
      ],
      "text/plain": [
       "   income    age     sex  y true  Equality  richer_is_better  total\n",
       "0      50  young    male       1      0.00              0.05   0.05\n",
       "1      80  young  female       0      0.25              0.15   0.40\n",
       "2      30    old    male       0      0.00              0.00   0.00\n",
       "3     100  young  female       1      0.25              0.15   0.40\n",
       "4      30    old    male       0      0.00              0.00   0.00"
      ]
     },
     "execution_count": 8,
     "metadata": {},
     "output_type": "execute_result"
    }
   ],
   "source": [
    "result.df"
   ]
  },
  {
   "cell_type": "code",
   "execution_count": 9,
   "metadata": {},
   "outputs": [
    {
     "data": {
      "text/plain": [
       "np.float64(0.8500000000000001)"
      ]
     },
     "execution_count": 9,
     "metadata": {},
     "output_type": "execute_result"
    }
   ],
   "source": [
    "result.total_score()"
   ]
  },
  {
   "cell_type": "code",
   "execution_count": 10,
   "metadata": {},
   "outputs": [
    {
     "data": {
      "text/plain": [
       "{'sex=female': {'data': 1    0.4\n",
       "  3    0.4\n",
       "  Name: total, dtype: float64,\n",
       "  'score': np.float64(0.8)},\n",
       " 'sex=male': {'data': 0    0.05\n",
       "  2    0.00\n",
       "  4    0.00\n",
       "  Name: total, dtype: float64,\n",
       "  'score': np.float64(0.05)}}"
      ]
     },
     "execution_count": 10,
     "metadata": {},
     "output_type": "execute_result"
    }
   ],
   "source": [
    "result.group_scores([\"sex\"])"
   ]
  },
  {
   "cell_type": "code",
   "execution_count": 11,
   "metadata": {},
   "outputs": [
    {
     "data": {
      "text/plain": [
       "{'sex=female;age=old': {'data': Series([], Name: total, dtype: float64),\n",
       "  'score': np.float64(0.0)},\n",
       " 'sex=female;age=young': {'data': 1    0.377778\n",
       "  3    0.377778\n",
       "  Name: total, dtype: float64,\n",
       "  'score': np.float64(0.7555555555555556)},\n",
       " 'sex=male;age=old': {'data': 2    0.0\n",
       "  4    0.0\n",
       "  Name: total, dtype: float64,\n",
       "  'score': np.float64(0.0)},\n",
       " 'sex=male;age=young': {'data': 0    0.094444\n",
       "  Name: total, dtype: float64,\n",
       "  'score': np.float64(0.09444444444444446)}}"
      ]
     },
     "execution_count": 11,
     "metadata": {},
     "output_type": "execute_result"
    }
   ],
   "source": [
    "result.group_scores([\"sex\", \"age\"], scaled=True)"
   ]
  },
  {
   "cell_type": "code",
   "execution_count": null,
   "metadata": {},
   "outputs": [],
   "source": []
  }
 ],
 "metadata": {
  "kernelspec": {
   "display_name": ".venv",
   "language": "python",
   "name": "python3"
  },
  "language_info": {
   "codemirror_mode": {
    "name": "ipython",
    "version": 3
   },
   "file_extension": ".py",
   "mimetype": "text/x-python",
   "name": "python",
   "nbconvert_exporter": "python",
   "pygments_lexer": "ipython3",
   "version": "3.10.13"
  }
 },
 "nbformat": 4,
 "nbformat_minor": 2
}
