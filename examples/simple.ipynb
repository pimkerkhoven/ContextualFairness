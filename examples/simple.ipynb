{
 "cells": [
  {
   "cell_type": "code",
   "execution_count": 1,
   "metadata": {},
   "outputs": [],
   "source": [
    "# Make sure we can import contextualfairness\n",
    "import sys\n",
    "\n",
    "sys.path.append(\"../\")"
   ]
  },
  {
   "cell_type": "code",
   "execution_count": 3,
   "metadata": {},
   "outputs": [],
   "source": [
    "import pandas as pd\n",
    "\n",
    "from contextualfairness.scorer import contextual_fairness_score\n",
    "from contextualfairness.norms import BinaryClassificationEqualityNorm, RankNorm"
   ]
  },
  {
   "cell_type": "code",
   "execution_count": 4,
   "metadata": {},
   "outputs": [],
   "source": [
    "# Setup fake data\n",
    "ages = [\"young\", \"young\", \"old\", \"young\", \"old\"]\n",
    "y_true = [1, 0, 0, 1, 0]\n",
    "\n",
    "d = {\n",
    "    \"income\": [50, 80, 30, 100, 30],\n",
    "    \"age\": ages,\n",
    "    \"sex\": [\"male\", \"female\", \"male\", \"female\", \"male\"],\n",
    "    \"y true\": y_true,\n",
    "}\n",
    "\n",
    "X = pd.DataFrame(data=d)"
   ]
  },
  {
   "cell_type": "code",
   "execution_count": 5,
   "metadata": {},
   "outputs": [],
   "source": [
    "# Define fake predictions and according probabilities\n",
    "y_pred = [1, 0, 1, 0, 1]\n",
    "y_pred_probas = [0.5, 0.2, 0.6, 0.4, 0.5]"
   ]
  },
  {
   "cell_type": "code",
   "execution_count": 6,
   "metadata": {},
   "outputs": [],
   "source": [
    "# Define norm function\n",
    "\n",
    "\n",
    "def richer_is_better(x):\n",
    "    return x[\"income\"]"
   ]
  },
  {
   "cell_type": "code",
   "execution_count": 9,
   "metadata": {},
   "outputs": [
    {
     "name": "stderr",
     "output_type": "stream",
     "text": [
      "/Users/pimk/Developer/contextual-fairness/examples/../contextualfairness/scorer.py:103: FutureWarning: Setting an item of incompatible dtype is deprecated and will raise in a future error of pandas. Value '[0.   0.25 0.   0.25 0.  ]' has dtype incompatible with int64, please explicitly cast to a compatible dtype first.\n",
      "  result.loc[:, norm.name] = (\n",
      "/Users/pimk/Developer/contextual-fairness/examples/../contextualfairness/scorer.py:103: FutureWarning: Setting an item of incompatible dtype is deprecated and will raise in a future error of pandas. Value '[0.05 0.15 0.   0.15 0.  ]' has dtype incompatible with int64, please explicitly cast to a compatible dtype first.\n",
      "  result.loc[:, norm.name] = (\n"
     ]
    }
   ],
   "source": [
    "norms = [BinaryClassificationEqualityNorm(0.5), RankNorm(0.5, richer_is_better)]\n",
    "\n",
    "result = contextual_fairness_score(\n",
    "    norms=norms,\n",
    "    X=X,\n",
    "    y_pred=y_pred,\n",
    "    y_pred_probas=y_pred_probas,\n",
    ")"
   ]
  },
  {
   "cell_type": "code",
   "execution_count": 10,
   "metadata": {},
   "outputs": [
    {
     "data": {
      "text/plain": [
       "np.float64(0.8500000000000001)"
      ]
     },
     "execution_count": 10,
     "metadata": {},
     "output_type": "execute_result"
    }
   ],
   "source": [
    "result.total_score()"
   ]
  },
  {
   "cell_type": "code",
   "execution_count": 11,
   "metadata": {},
   "outputs": [
    {
     "data": {
      "text/plain": [
       "{'sex=female': {'data': 1    0.4\n",
       "  3    0.4\n",
       "  Name: total, dtype: float64,\n",
       "  'score': np.float64(0.8)},\n",
       " 'sex=male': {'data': 0    0.05\n",
       "  2    0.00\n",
       "  4    0.00\n",
       "  Name: total, dtype: float64,\n",
       "  'score': np.float64(0.05)}}"
      ]
     },
     "execution_count": 11,
     "metadata": {},
     "output_type": "execute_result"
    }
   ],
   "source": [
    "result.group_scores([\"sex\"])"
   ]
  },
  {
   "cell_type": "code",
   "execution_count": 13,
   "metadata": {},
   "outputs": [
    {
     "name": "stderr",
     "output_type": "stream",
     "text": [
      "/Users/pimk/Developer/contextual-fairness/examples/../contextualfairness/scorer.py:45: RuntimeWarning: invalid value encountered in scalar divide\n",
      "  denominator += result[group_name][\"score\"] / len(\n",
      "/Users/pimk/Developer/contextual-fairness/examples/../contextualfairness/scorer.py:51: RuntimeWarning: invalid value encountered in scalar divide\n",
      "  (result[group_name][\"score\"] / len(result[group_name][\"data\"]))\n"
     ]
    },
    {
     "data": {
      "text/plain": [
       "{'sex=female;age=old': {'data': Series([], Name: total, dtype: float64),\n",
       "  'score': np.float64(nan)},\n",
       " 'sex=female;age=young': {'data': 1   NaN\n",
       "  3   NaN\n",
       "  Name: total, dtype: float64,\n",
       "  'score': np.float64(nan)},\n",
       " 'sex=male;age=old': {'data': 2   NaN\n",
       "  4   NaN\n",
       "  Name: total, dtype: float64,\n",
       "  'score': np.float64(nan)},\n",
       " 'sex=male;age=young': {'data': 0   NaN\n",
       "  Name: total, dtype: float64,\n",
       "  'score': np.float64(nan)}}"
      ]
     },
     "execution_count": 13,
     "metadata": {},
     "output_type": "execute_result"
    }
   ],
   "source": [
    "result.group_scores([\"sex\", \"age\"], scaled=True)"
   ]
  }
 ],
 "metadata": {
  "kernelspec": {
   "display_name": ".venv",
   "language": "python",
   "name": "python3"
  },
  "language_info": {
   "codemirror_mode": {
    "name": "ipython",
    "version": 3
   },
   "file_extension": ".py",
   "mimetype": "text/x-python",
   "name": "python",
   "nbconvert_exporter": "python",
   "pygments_lexer": "ipython3",
   "version": "3.10.13"
  }
 },
 "nbformat": 4,
 "nbformat_minor": 2
}
